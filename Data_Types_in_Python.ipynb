{
  "nbformat": 4,
  "nbformat_minor": 0,
  "metadata": {
    "colab": {
      "provenance": [],
      "authorship_tag": "ABX9TyOm6yRLuU8UaBBmQNFNMEA+",
      "include_colab_link": true
    },
    "kernelspec": {
      "name": "python3",
      "display_name": "Python 3"
    },
    "language_info": {
      "name": "python"
    }
  },
  "cells": [
    {
      "cell_type": "markdown",
      "metadata": {
        "id": "view-in-github",
        "colab_type": "text"
      },
      "source": [
        "<a href=\"https://colab.research.google.com/github/gD26290/Python/blob/main/Data_Types_in_Python.ipynb\" target=\"_parent\"><img src=\"https://colab.research.google.com/assets/colab-badge.svg\" alt=\"Open In Colab\"/></a>"
      ]
    },
    {
      "cell_type": "markdown",
      "source": [
        "# **Data Types**"
      ],
      "metadata": {
        "id": "i9-MJWh93Lln"
      }
    },
    {
      "cell_type": "markdown",
      "source": [
        "# *Numeric Data Types*"
      ],
      "metadata": {
        "id": "rcS977Yp4HB8"
      }
    },
    {
      "cell_type": "markdown",
      "source": [
        "**Integer**"
      ],
      "metadata": {
        "id": "2C4CYiVs8eKL"
      }
    },
    {
      "cell_type": "code",
      "source": [
        "x = 12"
      ],
      "metadata": {
        "id": "3_xUMd-r2yYV"
      },
      "execution_count": 3,
      "outputs": []
    },
    {
      "cell_type": "code",
      "source": [
        "type(x)"
      ],
      "metadata": {
        "colab": {
          "base_uri": "https://localhost:8080/"
        },
        "id": "NhdU7CLX2ybm",
        "outputId": "ed006a56-8b01-4c4a-adbd-ddafa9708b5c"
      },
      "execution_count": 4,
      "outputs": [
        {
          "output_type": "execute_result",
          "data": {
            "text/plain": [
              "int"
            ]
          },
          "metadata": {},
          "execution_count": 4
        }
      ]
    },
    {
      "cell_type": "code",
      "source": [
        "y = 15*23"
      ],
      "metadata": {
        "id": "mHjmQm_g2yfc"
      },
      "execution_count": 5,
      "outputs": []
    },
    {
      "cell_type": "code",
      "source": [
        "print(y)\n",
        "type(y)"
      ],
      "metadata": {
        "colab": {
          "base_uri": "https://localhost:8080/"
        },
        "id": "qyPx8gFC2ylX",
        "outputId": "8ec3d90a-b0e6-4752-e1bb-6103e1a1a6f3"
      },
      "execution_count": 6,
      "outputs": [
        {
          "output_type": "stream",
          "name": "stdout",
          "text": [
            "345\n"
          ]
        },
        {
          "output_type": "execute_result",
          "data": {
            "text/plain": [
              "int"
            ]
          },
          "metadata": {},
          "execution_count": 6
        }
      ]
    },
    {
      "cell_type": "markdown",
      "source": [
        "**Decimal**"
      ],
      "metadata": {
        "id": "xEMQr2_s8ayS"
      }
    },
    {
      "cell_type": "code",
      "source": [
        "type(2.368)"
      ],
      "metadata": {
        "colab": {
          "base_uri": "https://localhost:8080/"
        },
        "id": "sC9NX6XP2yq-",
        "outputId": "db157c61-b64b-4604-853b-f7b324ca8506"
      },
      "execution_count": 10,
      "outputs": [
        {
          "output_type": "execute_result",
          "data": {
            "text/plain": [
              "float"
            ]
          },
          "metadata": {},
          "execution_count": 10
        }
      ]
    },
    {
      "cell_type": "code",
      "source": [
        "x = 10\n",
        "y = 8.45\n",
        "print(x+y)\n",
        "type(x+y)"
      ],
      "metadata": {
        "colab": {
          "base_uri": "https://localhost:8080/"
        },
        "id": "9hozDx102ytt",
        "outputId": "d5d00990-3bae-4f24-f10f-1bfb799a89c7"
      },
      "execution_count": 11,
      "outputs": [
        {
          "output_type": "stream",
          "name": "stdout",
          "text": [
            "18.45\n"
          ]
        },
        {
          "output_type": "execute_result",
          "data": {
            "text/plain": [
              "float"
            ]
          },
          "metadata": {},
          "execution_count": 11
        }
      ]
    },
    {
      "cell_type": "markdown",
      "source": [
        "**Complex**"
      ],
      "metadata": {
        "id": "gll5kyQN8kpm"
      }
    },
    {
      "cell_type": "code",
      "source": [
        "x = 10 + 3j\n",
        "type(x)"
      ],
      "metadata": {
        "colab": {
          "base_uri": "https://localhost:8080/"
        },
        "id": "MCK5HVPm2yzW",
        "outputId": "1ee3be6d-afa1-4d97-abdb-be06da822ada"
      },
      "execution_count": 14,
      "outputs": [
        {
          "output_type": "execute_result",
          "data": {
            "text/plain": [
              "complex"
            ]
          },
          "metadata": {},
          "execution_count": 14
        }
      ]
    },
    {
      "cell_type": "code",
      "source": [],
      "metadata": {
        "id": "hKTDCJ5a8Ze6"
      },
      "execution_count": null,
      "outputs": []
    },
    {
      "cell_type": "markdown",
      "source": [
        "# *Boolean*"
      ],
      "metadata": {
        "id": "INRytddI6Aia"
      }
    },
    {
      "cell_type": "markdown",
      "source": [
        "**true or false**"
      ],
      "metadata": {
        "id": "5zpnqfxo8S9M"
      }
    },
    {
      "cell_type": "code",
      "source": [
        "# True or False - Camparison Operator"
      ],
      "metadata": {
        "id": "eQc-GkmV6GQf"
      },
      "execution_count": null,
      "outputs": []
    },
    {
      "cell_type": "code",
      "source": [
        "1 > 5"
      ],
      "metadata": {
        "colab": {
          "base_uri": "https://localhost:8080/"
        },
        "id": "4tzSCv066GdQ",
        "outputId": "1c66bfc7-480c-4e3e-8725-2403da7808d5"
      },
      "execution_count": 15,
      "outputs": [
        {
          "output_type": "execute_result",
          "data": {
            "text/plain": [
              "False"
            ]
          },
          "metadata": {},
          "execution_count": 15
        }
      ]
    },
    {
      "cell_type": "code",
      "source": [
        "1 == 1"
      ],
      "metadata": {
        "colab": {
          "base_uri": "https://localhost:8080/"
        },
        "id": "pvzRkf4K6GjQ",
        "outputId": "72f83879-58e6-40a6-c93d-60952bc3ee9b"
      },
      "execution_count": 16,
      "outputs": [
        {
          "output_type": "execute_result",
          "data": {
            "text/plain": [
              "True"
            ]
          },
          "metadata": {},
          "execution_count": 16
        }
      ]
    },
    {
      "cell_type": "code",
      "source": [
        "x = 'seeds'\n",
        "y = 'plants'\n",
        "\n",
        "x == y"
      ],
      "metadata": {
        "colab": {
          "base_uri": "https://localhost:8080/"
        },
        "id": "VjBSvj8P6GqO",
        "outputId": "9787bf22-366a-4cf4-96d8-0a79fc14285b"
      },
      "execution_count": 17,
      "outputs": [
        {
          "output_type": "execute_result",
          "data": {
            "text/plain": [
              "False"
            ]
          },
          "metadata": {},
          "execution_count": 17
        }
      ]
    },
    {
      "cell_type": "code",
      "source": [
        "y = 'seeds'"
      ],
      "metadata": {
        "id": "0nV1Wxzl6Gt4"
      },
      "execution_count": 18,
      "outputs": []
    },
    {
      "cell_type": "code",
      "source": [
        "x == y"
      ],
      "metadata": {
        "colab": {
          "base_uri": "https://localhost:8080/"
        },
        "id": "TiuSGtgz6gGu",
        "outputId": "706d01b6-347f-4916-d01f-f656cafdd9db"
      },
      "execution_count": 19,
      "outputs": [
        {
          "output_type": "execute_result",
          "data": {
            "text/plain": [
              "True"
            ]
          },
          "metadata": {},
          "execution_count": 19
        }
      ]
    },
    {
      "cell_type": "markdown",
      "source": [
        "# *Sequential Type data types*"
      ],
      "metadata": {
        "id": "7DGmas3_6mt2"
      }
    },
    {
      "cell_type": "markdown",
      "source": [
        "**Strings**"
      ],
      "metadata": {
        "id": "M2w6n1Pr8ops"
      }
    },
    {
      "cell_type": "code",
      "source": [
        "# always in quotes (singel, double or even triple quotes)\n",
        "# indexing is available (positive starts with 0 and negative starts with -1)"
      ],
      "metadata": {
        "id": "JYvZ1PWq84Ip"
      },
      "execution_count": 20,
      "outputs": []
    },
    {
      "cell_type": "code",
      "source": [
        "x = 'paper and pen'\n",
        "y = \"pencil and ruler\"\n",
        "z = \"\"\"can we go see the sunset, it's a beautiful day\"\"\""
      ],
      "metadata": {
        "id": "3Qeo7BcJ84Qg"
      },
      "execution_count": 24,
      "outputs": []
    },
    {
      "cell_type": "code",
      "source": [
        "print(x)\n",
        "print(y)\n",
        "print(z)"
      ],
      "metadata": {
        "colab": {
          "base_uri": "https://localhost:8080/"
        },
        "id": "jAoC3la09KVS",
        "outputId": "14871ed4-12d3-4c90-fa4f-374a26d56062"
      },
      "execution_count": 25,
      "outputs": [
        {
          "output_type": "stream",
          "name": "stdout",
          "text": [
            "paper and pen\n",
            "pencil and ruler\n",
            "can we go see the sunset, it's a beautiful day\n"
          ]
        }
      ]
    },
    {
      "cell_type": "code",
      "source": [
        " c = 'margerita'\n",
        " # m  a  r  g  e  r  i  t  a \n",
        " # 1  2  3  4  5  6  7  8  9\n",
        " #-9 -8 -7 -6 -5 -4 -3 -2 -1 \n",
        "print(c[:4])"
      ],
      "metadata": {
        "colab": {
          "base_uri": "https://localhost:8080/"
        },
        "id": "wdkODoyK84UT",
        "outputId": "f6bef08c-9853-4470-ace0-1a5198da6b5f"
      },
      "execution_count": 37,
      "outputs": [
        {
          "output_type": "stream",
          "name": "stdout",
          "text": [
            "marg\n"
          ]
        }
      ]
    },
    {
      "cell_type": "code",
      "source": [
        "print(c[2:6])"
      ],
      "metadata": {
        "colab": {
          "base_uri": "https://localhost:8080/"
        },
        "id": "IPSLqEiE-ftf",
        "outputId": "e730ea30-4666-41d1-ca51-e8ee70deede3"
      },
      "execution_count": 27,
      "outputs": [
        {
          "output_type": "stream",
          "name": "stdout",
          "text": [
            "rger\n"
          ]
        }
      ]
    },
    {
      "cell_type": "code",
      "source": [
        "print(c[:-3])"
      ],
      "metadata": {
        "colab": {
          "base_uri": "https://localhost:8080/"
        },
        "id": "k4h5JdVw-fxS",
        "outputId": "47da0f9d-ee1a-45c7-eb4a-95d07d9803a4"
      },
      "execution_count": 28,
      "outputs": [
        {
          "output_type": "stream",
          "name": "stdout",
          "text": [
            "marger\n"
          ]
        }
      ]
    },
    {
      "cell_type": "code",
      "source": [
        "print(c[-3:-1])"
      ],
      "metadata": {
        "colab": {
          "base_uri": "https://localhost:8080/"
        },
        "id": "eZz7Z3g9-oDx",
        "outputId": "ea5f1b0f-cd39-4800-c9e6-f8a8e33aa1fa"
      },
      "execution_count": 30,
      "outputs": [
        {
          "output_type": "stream",
          "name": "stdout",
          "text": [
            "it\n"
          ]
        }
      ]
    },
    {
      "cell_type": "code",
      "source": [
        "print(c[-3:])"
      ],
      "metadata": {
        "colab": {
          "base_uri": "https://localhost:8080/"
        },
        "id": "Zy8L2D5--ono",
        "outputId": "b4913589-e9d1-4f86-c03a-ae5cc8f19323"
      },
      "execution_count": 31,
      "outputs": [
        {
          "output_type": "stream",
          "name": "stdout",
          "text": [
            "ita\n"
          ]
        }
      ]
    },
    {
      "cell_type": "code",
      "source": [],
      "metadata": {
        "id": "qKPVjkyA-oqz"
      },
      "execution_count": null,
      "outputs": []
    },
    {
      "cell_type": "code",
      "source": [],
      "metadata": {
        "id": "b_26psR8-gDm"
      },
      "execution_count": null,
      "outputs": []
    },
    {
      "cell_type": "markdown",
      "source": [
        "**Lists**"
      ],
      "metadata": {
        "id": "1lrorIBf8wtC"
      }
    },
    {
      "cell_type": "code",
      "source": [],
      "metadata": {
        "id": "q7Mm0x7W85Ay"
      },
      "execution_count": null,
      "outputs": []
    },
    {
      "cell_type": "code",
      "source": [],
      "metadata": {
        "id": "3rMzzfT285Ek"
      },
      "execution_count": null,
      "outputs": []
    },
    {
      "cell_type": "code",
      "source": [],
      "metadata": {
        "id": "Cm4pLpWp85Kr"
      },
      "execution_count": null,
      "outputs": []
    },
    {
      "cell_type": "markdown",
      "source": [
        "**Tuples**"
      ],
      "metadata": {
        "id": "Nuvcxiuj8xCy"
      }
    },
    {
      "cell_type": "code",
      "source": [],
      "metadata": {
        "id": "ISnrM5k96gLh"
      },
      "execution_count": null,
      "outputs": []
    },
    {
      "cell_type": "code",
      "source": [],
      "metadata": {
        "id": "3DAjYL-k6GxR"
      },
      "execution_count": null,
      "outputs": []
    },
    {
      "cell_type": "code",
      "source": [],
      "metadata": {
        "id": "IcLhofV36G2G"
      },
      "execution_count": null,
      "outputs": []
    }
  ]
}