{
  "nbformat": 4,
  "nbformat_minor": 0,
  "metadata": {
    "colab": {
      "provenance": [],
      "authorship_tag": "ABX9TyMdWRWEWPz8uIzVK/8vOipj",
      "include_colab_link": true
    },
    "kernelspec": {
      "name": "python3",
      "display_name": "Python 3"
    },
    "language_info": {
      "name": "python"
    }
  },
  "cells": [
    {
      "cell_type": "markdown",
      "metadata": {
        "id": "view-in-github",
        "colab_type": "text"
      },
      "source": [
        "<a href=\"https://colab.research.google.com/github/gD26290/Python/blob/main/Chapters/Operators_in_Python.ipynb\" target=\"_parent\"><img src=\"https://colab.research.google.com/assets/colab-badge.svg\" alt=\"Open In Colab\"/></a>"
      ]
    },
    {
      "cell_type": "markdown",
      "source": [
        "# **Operators in Python**"
      ],
      "metadata": {
        "id": "QEonB7GUwjRO"
      }
    },
    {
      "cell_type": "markdown",
      "source": [
        "# *Comparison Operators*"
      ],
      "metadata": {
        "id": "GeCxhnVFw6B8"
      }
    },
    {
      "cell_type": "code",
      "source": [
        "# equal to, not equal to, less than, geater than, less than or equal to, greater than or equal to"
      ],
      "metadata": {
        "id": "6FuES3_Ixfmf"
      },
      "execution_count": 1,
      "outputs": []
    },
    {
      "cell_type": "code",
      "source": [
        "5 == 5"
      ],
      "metadata": {
        "colab": {
          "base_uri": "https://localhost:8080/"
        },
        "id": "-75lcGfjzXLL",
        "outputId": "32e11d89-ecfc-4aae-ea8c-96b304399275"
      },
      "execution_count": 2,
      "outputs": [
        {
          "output_type": "execute_result",
          "data": {
            "text/plain": [
              "True"
            ]
          },
          "metadata": {},
          "execution_count": 2
        }
      ]
    },
    {
      "cell_type": "code",
      "source": [
        "'vanilla' == 'chocolate'"
      ],
      "metadata": {
        "colab": {
          "base_uri": "https://localhost:8080/"
        },
        "id": "48GhdswPzbUI",
        "outputId": "6620b09f-09bb-4e2c-bb5d-4f4077baf83e"
      },
      "execution_count": 4,
      "outputs": [
        {
          "output_type": "execute_result",
          "data": {
            "text/plain": [
              "False"
            ]
          },
          "metadata": {},
          "execution_count": 4
        }
      ]
    },
    {
      "cell_type": "code",
      "source": [
        "'chocolate' == 'chocolate'"
      ],
      "metadata": {
        "colab": {
          "base_uri": "https://localhost:8080/"
        },
        "id": "29h4NwuNziCY",
        "outputId": "f605ed39-37b3-488e-ba8f-fb2d1c66dc34"
      },
      "execution_count": 5,
      "outputs": [
        {
          "output_type": "execute_result",
          "data": {
            "text/plain": [
              "True"
            ]
          },
          "metadata": {},
          "execution_count": 5
        }
      ]
    },
    {
      "cell_type": "code",
      "source": [
        "'vanilla' > 'chocolate'   # since 'v' is alphabetically greater than 'c'"
      ],
      "metadata": {
        "colab": {
          "base_uri": "https://localhost:8080/"
        },
        "id": "ojDXsZN6zpPb",
        "outputId": "f2f3a7ee-1def-4c8a-fbc0-86767269f889"
      },
      "execution_count": 7,
      "outputs": [
        {
          "output_type": "execute_result",
          "data": {
            "text/plain": [
              "True"
            ]
          },
          "metadata": {},
          "execution_count": 7
        }
      ]
    },
    {
      "cell_type": "markdown",
      "source": [
        "# *Logical Operators*"
      ],
      "metadata": {
        "id": "6fcCIGMFz--3"
      }
    },
    {
      "cell_type": "code",
      "source": [
        "# and, or, not"
      ],
      "metadata": {
        "id": "UOK0sbUmzwV8"
      },
      "execution_count": 8,
      "outputs": []
    },
    {
      "cell_type": "code",
      "source": [
        "'vanilla' == 'chocolate' and 5 > 3    # 1st statement is false and 2nd is true"
      ],
      "metadata": {
        "colab": {
          "base_uri": "https://localhost:8080/"
        },
        "id": "Lp5NfdGG0K7T",
        "outputId": "1bf10e9b-0ff5-47b0-9efc-d1d0d75e315b"
      },
      "execution_count": 9,
      "outputs": [
        {
          "output_type": "execute_result",
          "data": {
            "text/plain": [
              "False"
            ]
          },
          "metadata": {},
          "execution_count": 9
        }
      ]
    },
    {
      "cell_type": "code",
      "source": [
        "'vanilla' > 'chocolate' and 5 > 3     # both statement is true"
      ],
      "metadata": {
        "colab": {
          "base_uri": "https://localhost:8080/"
        },
        "id": "94Ii9afQ0fI2",
        "outputId": "d157ffcd-cbb8-4b1a-891d-38a337646811"
      },
      "execution_count": 12,
      "outputs": [
        {
          "output_type": "execute_result",
          "data": {
            "text/plain": [
              "True"
            ]
          },
          "metadata": {},
          "execution_count": 12
        }
      ]
    },
    {
      "cell_type": "code",
      "source": [
        "'vanilla' == 'chocolate' or 5 > 3    # 1st statement is false and 2nd is true"
      ],
      "metadata": {
        "colab": {
          "base_uri": "https://localhost:8080/"
        },
        "id": "LAAN45kP0j36",
        "outputId": "2441faa9-6b64-4465-ee0e-ed384aabd11e"
      },
      "execution_count": 13,
      "outputs": [
        {
          "output_type": "execute_result",
          "data": {
            "text/plain": [
              "True"
            ]
          },
          "metadata": {},
          "execution_count": 13
        }
      ]
    },
    {
      "cell_type": "markdown",
      "source": [
        "# *Membership Operator*"
      ],
      "metadata": {
        "id": "BLGMXfSe1Jej"
      }
    },
    {
      "cell_type": "code",
      "source": [
        "# in, not in"
      ],
      "metadata": {
        "id": "KFv2lMen1T4Y"
      },
      "execution_count": 16,
      "outputs": []
    },
    {
      "cell_type": "code",
      "source": [
        "Python = 'it is very important to learn at least on programming language'"
      ],
      "metadata": {
        "id": "SuDSs6kF1Xmj"
      },
      "execution_count": 17,
      "outputs": []
    },
    {
      "cell_type": "code",
      "source": [
        "'important' in Python"
      ],
      "metadata": {
        "colab": {
          "base_uri": "https://localhost:8080/"
        },
        "id": "PDgELH4O1YuY",
        "outputId": "3c870fb0-01cf-45d2-cc34-c6e27f66f080"
      },
      "execution_count": 19,
      "outputs": [
        {
          "output_type": "execute_result",
          "data": {
            "text/plain": [
              "True"
            ]
          },
          "metadata": {},
          "execution_count": 19
        }
      ]
    },
    {
      "cell_type": "code",
      "source": [
        "'one' not in Python"
      ],
      "metadata": {
        "colab": {
          "base_uri": "https://localhost:8080/"
        },
        "id": "56kivkd_1YxF",
        "outputId": "a8f732bf-cced-46fc-d4f7-39f808279c83"
      },
      "execution_count": 22,
      "outputs": [
        {
          "output_type": "execute_result",
          "data": {
            "text/plain": [
              "True"
            ]
          },
          "metadata": {},
          "execution_count": 22
        }
      ]
    }
  ]
}