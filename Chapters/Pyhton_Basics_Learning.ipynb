{
  "nbformat": 4,
  "nbformat_minor": 0,
  "metadata": {
    "colab": {
      "provenance": [],
      "authorship_tag": "ABX9TyPDBF+u/QFH0FNCoGFgm++K",
      "include_colab_link": true
    },
    "kernelspec": {
      "name": "python3",
      "display_name": "Python 3"
    },
    "language_info": {
      "name": "python"
    }
  },
  "cells": [
    {
      "cell_type": "markdown",
      "metadata": {
        "id": "view-in-github",
        "colab_type": "text"
      },
      "source": [
        "<a href=\"https://colab.research.google.com/github/gD26290/Python/blob/main/Chapters/Pyhton_Basics_Learning.ipynb\" target=\"_parent\"><img src=\"https://colab.research.google.com/assets/colab-badge.svg\" alt=\"Open In Colab\"/></a>"
      ]
    },
    {
      "cell_type": "markdown",
      "source": [
        "# **Basics of Python**"
      ],
      "metadata": {
        "id": "-iOyfPKhlI48"
      }
    },
    {
      "cell_type": "markdown",
      "source": [
        "# *Variables in Python*"
      ],
      "metadata": {
        "id": "9EAL9jtKk2HN"
      }
    },
    {
      "cell_type": "code",
      "source": [
        "# how to write a variables"
      ],
      "metadata": {
        "id": "sH0u7o5JibKX"
      },
      "execution_count": null,
      "outputs": []
    },
    {
      "cell_type": "code",
      "source": [
        "x = 22"
      ],
      "metadata": {
        "id": "5ODJFO7bia8X"
      },
      "execution_count": null,
      "outputs": []
    },
    {
      "cell_type": "code",
      "source": [
        "print(x)"
      ],
      "metadata": {
        "colab": {
          "base_uri": "https://localhost:8080/"
        },
        "id": "KCynMbhzibWg",
        "outputId": "8b2bb709-ff12-464a-9ca6-fb0b9f9aa137"
      },
      "execution_count": null,
      "outputs": [
        {
          "output_type": "stream",
          "name": "stdout",
          "text": [
            "22\n"
          ]
        }
      ]
    },
    {
      "cell_type": "code",
      "source": [
        "y = 'case sensitivity of python'"
      ],
      "metadata": {
        "id": "SFNE4T60ibaR"
      },
      "execution_count": null,
      "outputs": []
    },
    {
      "cell_type": "code",
      "source": [
        "print(y)"
      ],
      "metadata": {
        "colab": {
          "base_uri": "https://localhost:8080/"
        },
        "id": "7jq5rtvNibeO",
        "outputId": "ed4b4c4a-e565-4acc-f611-68ba86a82504"
      },
      "execution_count": null,
      "outputs": [
        {
          "output_type": "stream",
          "name": "stdout",
          "text": [
            "case sensitivity of python\n"
          ]
        }
      ]
    },
    {
      "cell_type": "code",
      "source": [
        "#asigning multiple variables"
      ],
      "metadata": {
        "id": "p21xbYD-nmQI"
      },
      "execution_count": null,
      "outputs": []
    },
    {
      "cell_type": "code",
      "source": [
        "x, y, z = 'apple', 35, 'cats on the tree' "
      ],
      "metadata": {
        "id": "ye3Nco6Kibhx"
      },
      "execution_count": null,
      "outputs": []
    },
    {
      "cell_type": "code",
      "source": [
        "print(x)\n",
        "print(y)\n",
        "print (z)"
      ],
      "metadata": {
        "colab": {
          "base_uri": "https://localhost:8080/"
        },
        "id": "NgrA9Kr_ibk_",
        "outputId": "464f78e7-dcd3-4946-aa4d-9aaf3eff1939"
      },
      "execution_count": null,
      "outputs": [
        {
          "output_type": "stream",
          "name": "stdout",
          "text": [
            "apple\n",
            "35\n",
            "cats on the tree\n"
          ]
        }
      ]
    },
    {
      "cell_type": "code",
      "source": [
        "x = y = z = 'salt and pepper'"
      ],
      "metadata": {
        "id": "DbsXbO9Vibod"
      },
      "execution_count": null,
      "outputs": []
    },
    {
      "cell_type": "code",
      "source": [
        "print(x)\n",
        "print(y)\n",
        "print (z)"
      ],
      "metadata": {
        "colab": {
          "base_uri": "https://localhost:8080/"
        },
        "id": "EB0Pip1CibrO",
        "outputId": "26c0f2fd-bb9a-44d5-84a7-0f2ee6b856d7"
      },
      "execution_count": null,
      "outputs": [
        {
          "output_type": "stream",
          "name": "stdout",
          "text": [
            "salt and pepper\n",
            "salt and pepper\n",
            "salt and pepper\n"
          ]
        }
      ]
    },
    {
      "cell_type": "code",
      "source": [
        "#operators with variables"
      ],
      "metadata": {
        "id": "cRgA-ks1ibue"
      },
      "execution_count": null,
      "outputs": []
    },
    {
      "cell_type": "code",
      "source": [
        "x = 'pen' + 'and paper'"
      ],
      "metadata": {
        "id": "otn-yYS3n1sh"
      },
      "execution_count": null,
      "outputs": []
    },
    {
      "cell_type": "code",
      "source": [
        "print(x)"
      ],
      "metadata": {
        "colab": {
          "base_uri": "https://localhost:8080/"
        },
        "id": "-uOL3IkIn1yp",
        "outputId": "0a09c1f8-8b0a-43ab-be57-101ed33aca9f"
      },
      "execution_count": null,
      "outputs": [
        {
          "output_type": "stream",
          "name": "stdout",
          "text": [
            "penand paper\n"
          ]
        }
      ]
    },
    {
      "cell_type": "code",
      "source": [
        "x = 'pen' + ' and paper'"
      ],
      "metadata": {
        "id": "s7E_7MSbn12Y"
      },
      "execution_count": null,
      "outputs": []
    },
    {
      "cell_type": "code",
      "source": [
        "print(x)"
      ],
      "metadata": {
        "colab": {
          "base_uri": "https://localhost:8080/"
        },
        "id": "bgh16It_n16E",
        "outputId": "28f23bec-cd62-4239-8477-195c72aec7fd"
      },
      "execution_count": null,
      "outputs": [
        {
          "output_type": "stream",
          "name": "stdout",
          "text": [
            "pen and paper\n"
          ]
        }
      ]
    },
    {
      "cell_type": "code",
      "source": [
        "y = 'pen' + 2"
      ],
      "metadata": {
        "colab": {
          "base_uri": "https://localhost:8080/",
          "height": 165
        },
        "id": "lI7ydZmsn18L",
        "outputId": "01e2253f-a87f-4fee-c3fa-c38ab5fbde18"
      },
      "execution_count": null,
      "outputs": [
        {
          "output_type": "error",
          "ename": "TypeError",
          "evalue": "ignored",
          "traceback": [
            "\u001b[0;31m---------------------------------------------------------------------------\u001b[0m",
            "\u001b[0;31mTypeError\u001b[0m                                 Traceback (most recent call last)",
            "\u001b[0;32m<ipython-input-20-53567f66a6d4>\u001b[0m in \u001b[0;36m<cell line: 1>\u001b[0;34m()\u001b[0m\n\u001b[0;32m----> 1\u001b[0;31m \u001b[0my\u001b[0m \u001b[0;34m=\u001b[0m \u001b[0;34m'pen'\u001b[0m \u001b[0;34m+\u001b[0m \u001b[0;36m2\u001b[0m\u001b[0;34m\u001b[0m\u001b[0;34m\u001b[0m\u001b[0m\n\u001b[0m",
            "\u001b[0;31mTypeError\u001b[0m: can only concatenate str (not \"int\") to str"
          ]
        }
      ]
    },
    {
      "cell_type": "code",
      "source": [
        "y = 'pen', 2"
      ],
      "metadata": {
        "id": "XlFNKActn2BL"
      },
      "execution_count": null,
      "outputs": []
    },
    {
      "cell_type": "code",
      "source": [
        "print(y)"
      ],
      "metadata": {
        "colab": {
          "base_uri": "https://localhost:8080/"
        },
        "id": "g3uLcrJyn2Dq",
        "outputId": "4088da7b-dc78-4733-a658-abde5ec13679"
      },
      "execution_count": null,
      "outputs": [
        {
          "output_type": "stream",
          "name": "stdout",
          "text": [
            "('pen', 2)\n"
          ]
        }
      ]
    }
  ]
}