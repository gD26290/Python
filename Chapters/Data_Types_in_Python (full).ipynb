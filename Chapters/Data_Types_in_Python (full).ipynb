{
  "nbformat": 4,
  "nbformat_minor": 0,
  "metadata": {
    "colab": {
      "provenance": [],
      "authorship_tag": "ABX9TyM/rRRjjS8HBmFhr+Tq+j1E",
      "include_colab_link": true
    },
    "kernelspec": {
      "name": "python3",
      "display_name": "Python 3"
    },
    "language_info": {
      "name": "python"
    }
  },
  "cells": [
    {
      "cell_type": "markdown",
      "metadata": {
        "id": "view-in-github",
        "colab_type": "text"
      },
      "source": [
        "<a href=\"https://colab.research.google.com/github/gD26290/Python/blob/main/Chapters/Data_Types_in_Python%20(full).ipynb\" target=\"_parent\"><img src=\"https://colab.research.google.com/assets/colab-badge.svg\" alt=\"Open In Colab\"/></a>"
      ]
    },
    {
      "cell_type": "markdown",
      "source": [
        "# **Data Types**"
      ],
      "metadata": {
        "id": "i9-MJWh93Lln"
      }
    },
    {
      "cell_type": "markdown",
      "source": [
        "# *Numeric Data Types*"
      ],
      "metadata": {
        "id": "rcS977Yp4HB8"
      }
    },
    {
      "cell_type": "markdown",
      "source": [
        "**Integer**"
      ],
      "metadata": {
        "id": "2C4CYiVs8eKL"
      }
    },
    {
      "cell_type": "code",
      "source": [
        "x = 12"
      ],
      "metadata": {
        "id": "3_xUMd-r2yYV"
      },
      "execution_count": null,
      "outputs": []
    },
    {
      "cell_type": "code",
      "source": [
        "type(x)"
      ],
      "metadata": {
        "colab": {
          "base_uri": "https://localhost:8080/"
        },
        "id": "NhdU7CLX2ybm",
        "outputId": "ed006a56-8b01-4c4a-adbd-ddafa9708b5c"
      },
      "execution_count": null,
      "outputs": [
        {
          "output_type": "execute_result",
          "data": {
            "text/plain": [
              "int"
            ]
          },
          "metadata": {},
          "execution_count": 4
        }
      ]
    },
    {
      "cell_type": "code",
      "source": [
        "y = 15*23"
      ],
      "metadata": {
        "id": "mHjmQm_g2yfc"
      },
      "execution_count": null,
      "outputs": []
    },
    {
      "cell_type": "code",
      "source": [
        "print(y)\n",
        "type(y)"
      ],
      "metadata": {
        "colab": {
          "base_uri": "https://localhost:8080/"
        },
        "id": "qyPx8gFC2ylX",
        "outputId": "8ec3d90a-b0e6-4752-e1bb-6103e1a1a6f3"
      },
      "execution_count": null,
      "outputs": [
        {
          "output_type": "stream",
          "name": "stdout",
          "text": [
            "345\n"
          ]
        },
        {
          "output_type": "execute_result",
          "data": {
            "text/plain": [
              "int"
            ]
          },
          "metadata": {},
          "execution_count": 6
        }
      ]
    },
    {
      "cell_type": "markdown",
      "source": [
        "**Decimal**"
      ],
      "metadata": {
        "id": "xEMQr2_s8ayS"
      }
    },
    {
      "cell_type": "code",
      "source": [
        "type(2.368)"
      ],
      "metadata": {
        "colab": {
          "base_uri": "https://localhost:8080/"
        },
        "id": "sC9NX6XP2yq-",
        "outputId": "db157c61-b64b-4604-853b-f7b324ca8506"
      },
      "execution_count": null,
      "outputs": [
        {
          "output_type": "execute_result",
          "data": {
            "text/plain": [
              "float"
            ]
          },
          "metadata": {},
          "execution_count": 10
        }
      ]
    },
    {
      "cell_type": "code",
      "source": [
        "x = 10\n",
        "y = 8.45\n",
        "print(x+y)\n",
        "type(x+y)"
      ],
      "metadata": {
        "colab": {
          "base_uri": "https://localhost:8080/"
        },
        "id": "9hozDx102ytt",
        "outputId": "d5d00990-3bae-4f24-f10f-1bfb799a89c7"
      },
      "execution_count": null,
      "outputs": [
        {
          "output_type": "stream",
          "name": "stdout",
          "text": [
            "18.45\n"
          ]
        },
        {
          "output_type": "execute_result",
          "data": {
            "text/plain": [
              "float"
            ]
          },
          "metadata": {},
          "execution_count": 11
        }
      ]
    },
    {
      "cell_type": "markdown",
      "source": [
        "**Complex**"
      ],
      "metadata": {
        "id": "gll5kyQN8kpm"
      }
    },
    {
      "cell_type": "code",
      "source": [
        "x = 10 + 3j\n",
        "type(x)"
      ],
      "metadata": {
        "colab": {
          "base_uri": "https://localhost:8080/"
        },
        "id": "MCK5HVPm2yzW",
        "outputId": "1ee3be6d-afa1-4d97-abdb-be06da822ada"
      },
      "execution_count": null,
      "outputs": [
        {
          "output_type": "execute_result",
          "data": {
            "text/plain": [
              "complex"
            ]
          },
          "metadata": {},
          "execution_count": 14
        }
      ]
    },
    {
      "cell_type": "code",
      "source": [],
      "metadata": {
        "id": "hKTDCJ5a8Ze6"
      },
      "execution_count": null,
      "outputs": []
    },
    {
      "cell_type": "markdown",
      "source": [
        "# *Boolean*"
      ],
      "metadata": {
        "id": "INRytddI6Aia"
      }
    },
    {
      "cell_type": "markdown",
      "source": [
        "**true or false**"
      ],
      "metadata": {
        "id": "5zpnqfxo8S9M"
      }
    },
    {
      "cell_type": "code",
      "source": [
        "# True or False - Camparison Operator"
      ],
      "metadata": {
        "id": "eQc-GkmV6GQf"
      },
      "execution_count": null,
      "outputs": []
    },
    {
      "cell_type": "code",
      "source": [
        "1 > 5"
      ],
      "metadata": {
        "colab": {
          "base_uri": "https://localhost:8080/"
        },
        "id": "4tzSCv066GdQ",
        "outputId": "1c66bfc7-480c-4e3e-8725-2403da7808d5"
      },
      "execution_count": null,
      "outputs": [
        {
          "output_type": "execute_result",
          "data": {
            "text/plain": [
              "False"
            ]
          },
          "metadata": {},
          "execution_count": 15
        }
      ]
    },
    {
      "cell_type": "code",
      "source": [
        "1 == 1"
      ],
      "metadata": {
        "colab": {
          "base_uri": "https://localhost:8080/"
        },
        "id": "pvzRkf4K6GjQ",
        "outputId": "72f83879-58e6-40a6-c93d-60952bc3ee9b"
      },
      "execution_count": null,
      "outputs": [
        {
          "output_type": "execute_result",
          "data": {
            "text/plain": [
              "True"
            ]
          },
          "metadata": {},
          "execution_count": 16
        }
      ]
    },
    {
      "cell_type": "code",
      "source": [
        "x = 'seeds'\n",
        "y = 'plants'\n",
        "\n",
        "x == y"
      ],
      "metadata": {
        "colab": {
          "base_uri": "https://localhost:8080/"
        },
        "id": "VjBSvj8P6GqO",
        "outputId": "9787bf22-366a-4cf4-96d8-0a79fc14285b"
      },
      "execution_count": null,
      "outputs": [
        {
          "output_type": "execute_result",
          "data": {
            "text/plain": [
              "False"
            ]
          },
          "metadata": {},
          "execution_count": 17
        }
      ]
    },
    {
      "cell_type": "code",
      "source": [
        "y = 'seeds'"
      ],
      "metadata": {
        "id": "0nV1Wxzl6Gt4"
      },
      "execution_count": null,
      "outputs": []
    },
    {
      "cell_type": "code",
      "source": [
        "x == y"
      ],
      "metadata": {
        "colab": {
          "base_uri": "https://localhost:8080/"
        },
        "id": "TiuSGtgz6gGu",
        "outputId": "706d01b6-347f-4916-d01f-f656cafdd9db"
      },
      "execution_count": null,
      "outputs": [
        {
          "output_type": "execute_result",
          "data": {
            "text/plain": [
              "True"
            ]
          },
          "metadata": {},
          "execution_count": 19
        }
      ]
    },
    {
      "cell_type": "markdown",
      "source": [
        "# *Sequential Type data types*"
      ],
      "metadata": {
        "id": "7DGmas3_6mt2"
      }
    },
    {
      "cell_type": "markdown",
      "source": [
        "**Strings**"
      ],
      "metadata": {
        "id": "M2w6n1Pr8ops"
      }
    },
    {
      "cell_type": "code",
      "source": [
        "# can store values with multiple characters\n",
        "# always in quotes (singel, double or even triple quotes)\n",
        "# indexing is available (positive starts with 0 and negative starts with -1)"
      ],
      "metadata": {
        "id": "JYvZ1PWq84Ip"
      },
      "execution_count": null,
      "outputs": []
    },
    {
      "cell_type": "code",
      "source": [
        "x = 'paper and pen'\n",
        "y = \"pencil and ruler\"\n",
        "z = \"\"\"can we go see the sunset, it's a beautiful day\"\"\""
      ],
      "metadata": {
        "id": "3Qeo7BcJ84Qg"
      },
      "execution_count": null,
      "outputs": []
    },
    {
      "cell_type": "code",
      "source": [
        "print(x)\n",
        "print(y)\n",
        "print(z)"
      ],
      "metadata": {
        "colab": {
          "base_uri": "https://localhost:8080/"
        },
        "id": "jAoC3la09KVS",
        "outputId": "14871ed4-12d3-4c90-fa4f-374a26d56062"
      },
      "execution_count": null,
      "outputs": [
        {
          "output_type": "stream",
          "name": "stdout",
          "text": [
            "paper and pen\n",
            "pencil and ruler\n",
            "can we go see the sunset, it's a beautiful day\n"
          ]
        }
      ]
    },
    {
      "cell_type": "code",
      "source": [
        " c = 'margerita'\n",
        " # m  a  r  g  e  r  i  t  a \n",
        " # 1  2  3  4  5  6  7  8  9\n",
        " #-9 -8 -7 -6 -5 -4 -3 -2 -1 \n",
        "print(c[:4])"
      ],
      "metadata": {
        "colab": {
          "base_uri": "https://localhost:8080/"
        },
        "id": "wdkODoyK84UT",
        "outputId": "f6bef08c-9853-4470-ace0-1a5198da6b5f"
      },
      "execution_count": null,
      "outputs": [
        {
          "output_type": "stream",
          "name": "stdout",
          "text": [
            "marg\n"
          ]
        }
      ]
    },
    {
      "cell_type": "code",
      "source": [
        "print(c[2:6])"
      ],
      "metadata": {
        "colab": {
          "base_uri": "https://localhost:8080/"
        },
        "id": "IPSLqEiE-ftf",
        "outputId": "e730ea30-4666-41d1-ca51-e8ee70deede3"
      },
      "execution_count": null,
      "outputs": [
        {
          "output_type": "stream",
          "name": "stdout",
          "text": [
            "rger\n"
          ]
        }
      ]
    },
    {
      "cell_type": "code",
      "source": [
        "print(c[:-3])"
      ],
      "metadata": {
        "colab": {
          "base_uri": "https://localhost:8080/"
        },
        "id": "k4h5JdVw-fxS",
        "outputId": "47da0f9d-ee1a-45c7-eb4a-95d07d9803a4"
      },
      "execution_count": null,
      "outputs": [
        {
          "output_type": "stream",
          "name": "stdout",
          "text": [
            "marger\n"
          ]
        }
      ]
    },
    {
      "cell_type": "code",
      "source": [
        "print(c[-3:-1])"
      ],
      "metadata": {
        "colab": {
          "base_uri": "https://localhost:8080/"
        },
        "id": "eZz7Z3g9-oDx",
        "outputId": "ea5f1b0f-cd39-4800-c9e6-f8a8e33aa1fa"
      },
      "execution_count": null,
      "outputs": [
        {
          "output_type": "stream",
          "name": "stdout",
          "text": [
            "it\n"
          ]
        }
      ]
    },
    {
      "cell_type": "code",
      "source": [
        "print(c[-3:])"
      ],
      "metadata": {
        "colab": {
          "base_uri": "https://localhost:8080/"
        },
        "id": "Zy8L2D5--ono",
        "outputId": "b4913589-e9d1-4f86-c03a-ae5cc8f19323"
      },
      "execution_count": null,
      "outputs": [
        {
          "output_type": "stream",
          "name": "stdout",
          "text": [
            "ita\n"
          ]
        }
      ]
    },
    {
      "cell_type": "markdown",
      "source": [
        "**Lists**"
      ],
      "metadata": {
        "id": "1lrorIBf8wtC"
      }
    },
    {
      "cell_type": "code",
      "source": [
        "# starts storing values inside the brackets"
      ],
      "metadata": {
        "id": "q7Mm0x7W85Ay"
      },
      "execution_count": null,
      "outputs": []
    },
    {
      "cell_type": "code",
      "source": [
        "[1, 2, 3,]"
      ],
      "metadata": {
        "id": "3rMzzfT285Ek",
        "colab": {
          "base_uri": "https://localhost:8080/"
        },
        "outputId": "58bcb674-c679-4894-81ba-2fb6a5c1edb7"
      },
      "execution_count": null,
      "outputs": [
        {
          "output_type": "execute_result",
          "data": {
            "text/plain": [
              "[1, 2, 3]"
            ]
          },
          "metadata": {},
          "execution_count": 4
        }
      ]
    },
    {
      "cell_type": "code",
      "source": [
        "# can be indexed"
      ],
      "metadata": {
        "id": "2uBM4RNw8f1X"
      },
      "execution_count": null,
      "outputs": []
    },
    {
      "cell_type": "code",
      "source": [
        "x = [1, 2, 3,]\n",
        "x[1] "
      ],
      "metadata": {
        "colab": {
          "base_uri": "https://localhost:8080/"
        },
        "id": "juYngSGN8f36",
        "outputId": "34018ad5-d4e3-46d1-f541-a9688582f6a7"
      },
      "execution_count": null,
      "outputs": [
        {
          "output_type": "execute_result",
          "data": {
            "text/plain": [
              "2"
            ]
          },
          "metadata": {},
          "execution_count": 7
        }
      ]
    },
    {
      "cell_type": "code",
      "source": [
        "x[2]"
      ],
      "metadata": {
        "colab": {
          "base_uri": "https://localhost:8080/"
        },
        "id": "8dXIr_eT_VYo",
        "outputId": "1440e00e-2c1d-4e86-e8af-71a84a4f8ee9"
      },
      "execution_count": null,
      "outputs": [
        {
          "output_type": "execute_result",
          "data": {
            "text/plain": [
              "3"
            ]
          },
          "metadata": {},
          "execution_count": 8
        }
      ]
    },
    {
      "cell_type": "code",
      "source": [
        "# can store any/multiple data type"
      ],
      "metadata": {
        "id": "a49-ASRv_Ves"
      },
      "execution_count": null,
      "outputs": []
    },
    {
      "cell_type": "code",
      "source": [
        "x = [1, 2, 'Valarie', ['mango pickle', 'jackfruit'], True ]"
      ],
      "metadata": {
        "id": "Kj6uW5JZ_Vjb"
      },
      "execution_count": null,
      "outputs": []
    },
    {
      "cell_type": "code",
      "source": [
        "x[0]"
      ],
      "metadata": {
        "colab": {
          "base_uri": "https://localhost:8080/"
        },
        "id": "RM_OaccM_Vm9",
        "outputId": "b9ac0b81-a340-42e6-c6b9-a36dcddefa6b"
      },
      "execution_count": null,
      "outputs": [
        {
          "output_type": "execute_result",
          "data": {
            "text/plain": [
              "1"
            ]
          },
          "metadata": {},
          "execution_count": 15
        }
      ]
    },
    {
      "cell_type": "code",
      "source": [
        "x[2]"
      ],
      "metadata": {
        "colab": {
          "base_uri": "https://localhost:8080/",
          "height": 35
        },
        "id": "XS-QyPx8_VqY",
        "outputId": "a5cf57b4-9501-449c-b56c-a5d89c4cc5e9"
      },
      "execution_count": null,
      "outputs": [
        {
          "output_type": "execute_result",
          "data": {
            "text/plain": [
              "'Valarie'"
            ],
            "application/vnd.google.colaboratory.intrinsic+json": {
              "type": "string"
            }
          },
          "metadata": {},
          "execution_count": 16
        }
      ]
    },
    {
      "cell_type": "code",
      "source": [
        "x[3][1]"
      ],
      "metadata": {
        "colab": {
          "base_uri": "https://localhost:8080/",
          "height": 35
        },
        "id": "cwvlZCC5_VwS",
        "outputId": "857bc32c-b6e3-40ea-a609-c58ecb27c240"
      },
      "execution_count": null,
      "outputs": [
        {
          "output_type": "execute_result",
          "data": {
            "text/plain": [
              "'jackfruit'"
            ],
            "application/vnd.google.colaboratory.intrinsic+json": {
              "type": "string"
            }
          },
          "metadata": {},
          "execution_count": 17
        }
      ]
    },
    {
      "cell_type": "code",
      "source": [
        "x[4]"
      ],
      "metadata": {
        "id": "Cm4pLpWp85Kr",
        "colab": {
          "base_uri": "https://localhost:8080/"
        },
        "outputId": "1d3d0593-c736-4acc-bad5-02149ed0dd9b"
      },
      "execution_count": null,
      "outputs": [
        {
          "output_type": "execute_result",
          "data": {
            "text/plain": [
              "True"
            ]
          },
          "metadata": {},
          "execution_count": 18
        }
      ]
    },
    {
      "cell_type": "code",
      "source": [
        "# lists are mutable"
      ],
      "metadata": {
        "id": "IKKUbE0HA9dI"
      },
      "execution_count": null,
      "outputs": []
    },
    {
      "cell_type": "code",
      "source": [
        "x.append (3.24)"
      ],
      "metadata": {
        "id": "KxOs-nwvBNGC"
      },
      "execution_count": null,
      "outputs": []
    },
    {
      "cell_type": "code",
      "source": [
        "x"
      ],
      "metadata": {
        "colab": {
          "base_uri": "https://localhost:8080/"
        },
        "id": "stquWn7RBNPX",
        "outputId": "c33840b0-e69b-4b0e-a47a-24be271bd1b5"
      },
      "execution_count": null,
      "outputs": [
        {
          "output_type": "execute_result",
          "data": {
            "text/plain": [
              "[1, 2, 'Valarie', ['mango pickle', 'jackfruit'], True, 3.24]"
            ]
          },
          "metadata": {},
          "execution_count": 25
        }
      ]
    },
    {
      "cell_type": "code",
      "source": [
        "# we can remove by replacing using indexing"
      ],
      "metadata": {
        "id": "3fZcpfKnA9rK"
      },
      "execution_count": null,
      "outputs": []
    },
    {
      "cell_type": "code",
      "source": [
        "x [3][1] = 'dragon fruit' # jack fruit will be replaced by dragon fruit"
      ],
      "metadata": {
        "id": "pS4Oo6bTCA_H"
      },
      "execution_count": null,
      "outputs": []
    },
    {
      "cell_type": "code",
      "source": [
        "x"
      ],
      "metadata": {
        "colab": {
          "base_uri": "https://localhost:8080/"
        },
        "id": "DZqqdTd5CBK2",
        "outputId": "f1093fee-1492-44ee-af92-650db7fc40a5"
      },
      "execution_count": null,
      "outputs": [
        {
          "output_type": "execute_result",
          "data": {
            "text/plain": [
              "[1, 2, 'Valarie', ['mango pickle', 'dragon fruit'], True, 3.24]"
            ]
          },
          "metadata": {},
          "execution_count": 29
        }
      ]
    },
    {
      "cell_type": "markdown",
      "source": [
        "**Tuples**"
      ],
      "metadata": {
        "id": "Nuvcxiuj8xCy"
      }
    },
    {
      "cell_type": "code",
      "source": [
        "# are similar to lists\n",
        "# but are **not mutable**"
      ],
      "metadata": {
        "id": "7WJkuHYLA8gU"
      },
      "execution_count": null,
      "outputs": []
    },
    {
      "cell_type": "code",
      "source": [
        "# stores in common brackets/ parantheses"
      ],
      "metadata": {
        "id": "nXrtUBrjCne5"
      },
      "execution_count": null,
      "outputs": []
    },
    {
      "cell_type": "code",
      "source": [
        "x = (1, 2, 'L', 3 , 'n')"
      ],
      "metadata": {
        "id": "27HO0f7PCnht"
      },
      "execution_count": null,
      "outputs": []
    },
    {
      "cell_type": "code",
      "source": [
        "# can be indexed"
      ],
      "metadata": {
        "id": "79T1M0piCnkz"
      },
      "execution_count": null,
      "outputs": []
    },
    {
      "cell_type": "code",
      "source": [
        "x[2]"
      ],
      "metadata": {
        "colab": {
          "base_uri": "https://localhost:8080/",
          "height": 35
        },
        "id": "AR6YLQU-CnoL",
        "outputId": "b7ba5978-cd36-4542-9f76-c418fa9c858d"
      },
      "execution_count": null,
      "outputs": [
        {
          "output_type": "execute_result",
          "data": {
            "text/plain": [
              "'L'"
            ],
            "application/vnd.google.colaboratory.intrinsic+json": {
              "type": "string"
            }
          },
          "metadata": {},
          "execution_count": 39
        }
      ]
    },
    {
      "cell_type": "code",
      "source": [
        "# tuples cannot append\n",
        "x. append = ('a')"
      ],
      "metadata": {
        "colab": {
          "base_uri": "https://localhost:8080/",
          "height": 183
        },
        "id": "X82Z5zu8Cnqy",
        "outputId": "feb6db6a-6312-4767-e0fd-f6f47c52afd4"
      },
      "execution_count": null,
      "outputs": [
        {
          "output_type": "error",
          "ename": "AttributeError",
          "evalue": "ignored",
          "traceback": [
            "\u001b[0;31m---------------------------------------------------------------------------\u001b[0m",
            "\u001b[0;31mAttributeError\u001b[0m                            Traceback (most recent call last)",
            "\u001b[0;32m<ipython-input-40-2998aa38900d>\u001b[0m in \u001b[0;36m<cell line: 2>\u001b[0;34m()\u001b[0m\n\u001b[1;32m      1\u001b[0m \u001b[0;31m# tuples cannot append\u001b[0m\u001b[0;34m\u001b[0m\u001b[0;34m\u001b[0m\u001b[0m\n\u001b[0;32m----> 2\u001b[0;31m \u001b[0mx\u001b[0m\u001b[0;34m.\u001b[0m \u001b[0mappend\u001b[0m \u001b[0;34m=\u001b[0m \u001b[0;34m(\u001b[0m\u001b[0;34m'a'\u001b[0m\u001b[0;34m)\u001b[0m\u001b[0;34m\u001b[0m\u001b[0;34m\u001b[0m\u001b[0m\n\u001b[0m",
            "\u001b[0;31mAttributeError\u001b[0m: 'tuple' object has no attribute 'append'"
          ]
        }
      ]
    },
    {
      "cell_type": "markdown",
      "source": [
        "**Sets**"
      ],
      "metadata": {
        "id": "Hb6SorTzE9el"
      }
    },
    {
      "cell_type": "code",
      "source": [
        "# stores in squigly brackets {}\n",
        "# are similar to Lists and Tuples but without duplication"
      ],
      "metadata": {
        "id": "rEuDU_0lA8ml"
      },
      "execution_count": 2,
      "outputs": []
    },
    {
      "cell_type": "code",
      "source": [
        "# cannot be indexed (as they don't have an order)\n",
        "        # we can use loop (for loop) to look into the items stored in the sets"
      ],
      "metadata": {
        "id": "ISnrM5k96gLh"
      },
      "execution_count": 4,
      "outputs": []
    },
    {
      "cell_type": "code",
      "source": [
        "x = {1, 2, 3, 4, 3, 2, 1, 0}"
      ],
      "metadata": {
        "id": "3DAjYL-k6GxR"
      },
      "execution_count": 5,
      "outputs": []
    },
    {
      "cell_type": "code",
      "source": [
        "print (x)     #when run only distinct values are shown"
      ],
      "metadata": {
        "id": "IcLhofV36G2G",
        "colab": {
          "base_uri": "https://localhost:8080/"
        },
        "outputId": "a6dd46cd-4233-4a7f-c4cc-3e776fd989b6"
      },
      "execution_count": 7,
      "outputs": [
        {
          "output_type": "stream",
          "name": "stdout",
          "text": [
            "{0, 1, 2, 3, 4}\n"
          ]
        }
      ]
    },
    {
      "cell_type": "code",
      "source": [
        "# we can compare and see the unique values of 2 variables with (| = or), (& = and), (- = like left and right joins), (^ = unique to both)"
      ],
      "metadata": {
        "id": "CojK93PuK7OK"
      },
      "execution_count": 10,
      "outputs": []
    },
    {
      "cell_type": "code",
      "source": [
        "# consider\n",
        "x = {1, 2, 3, 4, 5, 15, 'a', 1, 3, 4}\n",
        "# and\n",
        "y = {'a', 2, 3, 33, 'c'}"
      ],
      "metadata": {
        "id": "6Mm7ewepLZXA"
      },
      "execution_count": 9,
      "outputs": []
    },
    {
      "cell_type": "code",
      "source": [
        "print(x | y)    # like an OR logical operator"
      ],
      "metadata": {
        "colab": {
          "base_uri": "https://localhost:8080/"
        },
        "id": "H7GfCWMOL2-g",
        "outputId": "1a1c294a-6437-4381-8c32-146cb940d05e"
      },
      "execution_count": 12,
      "outputs": [
        {
          "output_type": "stream",
          "name": "stdout",
          "text": [
            "{1, 2, 3, 4, 5, 33, 'c', 15, 'a'}\n"
          ]
        }
      ]
    },
    {
      "cell_type": "code",
      "source": [
        "print(x & y)    # like an AND logical operator"
      ],
      "metadata": {
        "colab": {
          "base_uri": "https://localhost:8080/"
        },
        "id": "bHhjaDxgMb3u",
        "outputId": "9e709d62-ab59-432e-a25b-2972c1aea4ea"
      },
      "execution_count": 13,
      "outputs": [
        {
          "output_type": "stream",
          "name": "stdout",
          "text": [
            "{2, 3, 'a'}\n"
          ]
        }
      ]
    },
    {
      "cell_type": "code",
      "source": [
        "print(x - y)    # like an LEFT join\n",
        "print(y - x)    # like an RIGHT join"
      ],
      "metadata": {
        "colab": {
          "base_uri": "https://localhost:8080/"
        },
        "id": "tmAFfWLMMb7A",
        "outputId": "20171c48-466c-42ce-cc44-1927d657cdcb"
      },
      "execution_count": 16,
      "outputs": [
        {
          "output_type": "stream",
          "name": "stdout",
          "text": [
            "{1, 4, 5, 15}\n",
            "{33, 'c'}\n"
          ]
        }
      ]
    },
    {
      "cell_type": "code",
      "source": [
        "print(x ^ y)    # show uniques in both the variables"
      ],
      "metadata": {
        "colab": {
          "base_uri": "https://localhost:8080/"
        },
        "id": "LNZSntszMb-X",
        "outputId": "21e3172d-b225-4fa9-8fa7-5c31e0e62ba8"
      },
      "execution_count": 15,
      "outputs": [
        {
          "output_type": "stream",
          "name": "stdout",
          "text": [
            "{33, 'c', 1, 4, 5, 15}\n"
          ]
        }
      ]
    },
    {
      "cell_type": "markdown",
      "source": [
        "**Dictionaries**"
      ],
      "metadata": {
        "id": "f3gyABYqNPbq"
      }
    },
    {
      "cell_type": "code",
      "source": [
        "# is the most different data type among all\n",
        "# starts with the squigly brackets"
      ],
      "metadata": {
        "id": "eFHFEXUHNVRk"
      },
      "execution_count": 18,
      "outputs": []
    },
    {
      "cell_type": "code",
      "source": [
        "# key/value pair"
      ],
      "metadata": {
        "id": "BdNzpAaKS98f"
      },
      "execution_count": 19,
      "outputs": []
    },
    {
      "cell_type": "code",
      "source": [
        "dict_x = {'name' : 'Alex', 'country' : 'USA', 'fav_food' : ['Burger', 'Pizza', 'Ice Cream']}\n",
        "print (dict_x)"
      ],
      "metadata": {
        "colab": {
          "base_uri": "https://localhost:8080/"
        },
        "id": "onNM06BpS-Di",
        "outputId": "cac230f2-de4b-4a4e-cc6c-4cf22223cf4e"
      },
      "execution_count": 28,
      "outputs": [
        {
          "output_type": "stream",
          "name": "stdout",
          "text": [
            "{'name': 'Alex', 'country': 'USA', 'fav_food': ['Burger', 'Pizza', 'Ice Cream']}\n"
          ]
        }
      ]
    },
    {
      "cell_type": "code",
      "source": [
        "type (dict_x)"
      ],
      "metadata": {
        "colab": {
          "base_uri": "https://localhost:8080/"
        },
        "id": "3pDathDSS-RK",
        "outputId": "b065f7d0-cb68-4954-ea56-f03bd20f8ff0"
      },
      "execution_count": 30,
      "outputs": [
        {
          "output_type": "execute_result",
          "data": {
            "text/plain": [
              "dict"
            ]
          },
          "metadata": {},
          "execution_count": 30
        }
      ]
    },
    {
      "cell_type": "code",
      "source": [
        "dict_x.values()"
      ],
      "metadata": {
        "colab": {
          "base_uri": "https://localhost:8080/"
        },
        "id": "oWXXD2TSS-Z7",
        "outputId": "16f5ea01-962e-4081-9747-514cb5103672"
      },
      "execution_count": 31,
      "outputs": [
        {
          "output_type": "execute_result",
          "data": {
            "text/plain": [
              "dict_values(['Alex', 'USA', ['Burger', 'Pizza', 'Ice Cream']])"
            ]
          },
          "metadata": {},
          "execution_count": 31
        }
      ]
    },
    {
      "cell_type": "code",
      "source": [
        "dict_x.keys()"
      ],
      "metadata": {
        "colab": {
          "base_uri": "https://localhost:8080/"
        },
        "id": "ksnxxsL6S-hL",
        "outputId": "6632796c-cf52-454d-aa2d-8627539d74d6"
      },
      "execution_count": 32,
      "outputs": [
        {
          "output_type": "execute_result",
          "data": {
            "text/plain": [
              "dict_keys(['name', 'country', 'fav_food'])"
            ]
          },
          "metadata": {},
          "execution_count": 32
        }
      ]
    },
    {
      "cell_type": "code",
      "source": [
        "dict_x[2]       # not indexable"
      ],
      "metadata": {
        "colab": {
          "base_uri": "https://localhost:8080/",
          "height": 165
        },
        "id": "mF8xQLNRS-kR",
        "outputId": "4a6623d5-6592-484a-8b20-4589ca9fb266"
      },
      "execution_count": 34,
      "outputs": [
        {
          "output_type": "error",
          "ename": "KeyError",
          "evalue": "ignored",
          "traceback": [
            "\u001b[0;31m---------------------------------------------------------------------------\u001b[0m",
            "\u001b[0;31mKeyError\u001b[0m                                  Traceback (most recent call last)",
            "\u001b[0;32m<ipython-input-34-b8bbb802e4b6>\u001b[0m in \u001b[0;36m<cell line: 1>\u001b[0;34m()\u001b[0m\n\u001b[0;32m----> 1\u001b[0;31m \u001b[0mdict_x\u001b[0m\u001b[0;34m[\u001b[0m\u001b[0;36m2\u001b[0m\u001b[0;34m]\u001b[0m       \u001b[0;31m# not indexable\u001b[0m\u001b[0;34m\u001b[0m\u001b[0;34m\u001b[0m\u001b[0m\n\u001b[0m",
            "\u001b[0;31mKeyError\u001b[0m: 2"
          ]
        }
      ]
    },
    {
      "cell_type": "code",
      "source": [
        "dict_x ['name'] = 'Gokul'   #changing/replacing name or tthe values is possible"
      ],
      "metadata": {
        "id": "l83mNdgeS-ri"
      },
      "execution_count": 38,
      "outputs": []
    },
    {
      "cell_type": "code",
      "source": [
        "print(dict_x)"
      ],
      "metadata": {
        "colab": {
          "base_uri": "https://localhost:8080/"
        },
        "id": "yerC_Of8S-uD",
        "outputId": "a4315eb8-2946-4642-ac72-bc8ffa82f125"
      },
      "execution_count": 39,
      "outputs": [
        {
          "output_type": "stream",
          "name": "stdout",
          "text": [
            "{'name': 'Gokul', 'country': 'USA', 'fav_food': ['Burger', 'Pizza', 'Ice Cream']}\n"
          ]
        }
      ]
    },
    {
      "cell_type": "code",
      "source": [
        "# we can update values\n",
        "      # which will not delete any other values but just adds up to the existing variable\n",
        "      # i'm changing the country to DOB, but the key/value pair 'country' does not get deleted and the new key/value pair is added at the end"
      ],
      "metadata": {
        "id": "VPVH9STTNVrA"
      },
      "execution_count": 45,
      "outputs": []
    },
    {
      "cell_type": "code",
      "source": [
        "dict_x.update({'name': 'Gokul', 'DOB': '26/02/1990', 'fav_food': ['Burger', 'Pizza', 'Ice Cream']})"
      ],
      "metadata": {
        "id": "2zAmiDrENV2c"
      },
      "execution_count": 43,
      "outputs": []
    },
    {
      "cell_type": "code",
      "source": [
        "print(dict_x)"
      ],
      "metadata": {
        "colab": {
          "base_uri": "https://localhost:8080/"
        },
        "id": "XGuAdV4hWJcb",
        "outputId": "9c9004d7-a4e5-438f-8c55-e8531bc60b75"
      },
      "execution_count": 44,
      "outputs": [
        {
          "output_type": "stream",
          "name": "stdout",
          "text": [
            "{'name': 'Gokul', 'country': 'USA', 'fav_food': ['Burger', 'Pizza', 'Ice Cream'], 'DOB': '26/02/1990'}\n"
          ]
        }
      ]
    },
    {
      "cell_type": "code",
      "source": [
        "# we can delete dictionaries using 'del' keyword"
      ],
      "metadata": {
        "id": "SZIVe2UZWJfn"
      },
      "execution_count": 47,
      "outputs": []
    },
    {
      "cell_type": "code",
      "source": [
        "del dict_x ['DOB']"
      ],
      "metadata": {
        "id": "rkwLUfgVS8mM"
      },
      "execution_count": 48,
      "outputs": []
    },
    {
      "cell_type": "code",
      "source": [
        "print(dict_x)"
      ],
      "metadata": {
        "colab": {
          "base_uri": "https://localhost:8080/"
        },
        "id": "ntWhsihwS8zK",
        "outputId": "7eafddbb-b059-4ff4-bdd0-b13b01784532"
      },
      "execution_count": 49,
      "outputs": [
        {
          "output_type": "stream",
          "name": "stdout",
          "text": [
            "{'name': 'Gokul', 'country': 'USA', 'fav_food': ['Burger', 'Pizza', 'Ice Cream']}\n"
          ]
        }
      ]
    }
  ]
}