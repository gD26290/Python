{
  "nbformat": 4,
  "nbformat_minor": 0,
  "metadata": {
    "colab": {
      "provenance": [],
      "authorship_tag": "ABX9TyNo4j6KqATfUGG684DdvASj",
      "include_colab_link": true
    },
    "kernelspec": {
      "name": "python3",
      "display_name": "Python 3"
    },
    "language_info": {
      "name": "python"
    }
  },
  "cells": [
    {
      "cell_type": "markdown",
      "metadata": {
        "id": "view-in-github",
        "colab_type": "text"
      },
      "source": [
        "<a href=\"https://colab.research.google.com/github/gD26290/Python/blob/main/Chapters/If_Elif_Else_statement.ipynb\" target=\"_parent\"><img src=\"https://colab.research.google.com/assets/colab-badge.svg\" alt=\"Open In Colab\"/></a>"
      ]
    },
    {
      "cell_type": "markdown",
      "source": [
        "# **If-Elif-Else statement**"
      ],
      "metadata": {
        "id": "E3seSxz54xjh"
      }
    },
    {
      "cell_type": "code",
      "source": [
        "if 5 > 4:\n",
        "  print ('true')"
      ],
      "metadata": {
        "colab": {
          "base_uri": "https://localhost:8080/"
        },
        "id": "90mqKyWbi_Ko",
        "outputId": "a5fb7620-d702-4e6c-fa9f-61220843d954"
      },
      "execution_count": 4,
      "outputs": [
        {
          "output_type": "stream",
          "name": "stdout",
          "text": [
            "true\n"
          ]
        }
      ]
    },
    {
      "cell_type": "code",
      "source": [
        "if 5 < 4:\n",
        "  print ('true')"
      ],
      "metadata": {
        "id": "kvsNDD38jMlm"
      },
      "execution_count": 5,
      "outputs": []
    },
    {
      "cell_type": "code",
      "source": [
        "# there's no output since we have no \"else statement\" \n",
        "# if the first statement doesn't get satisfied."
      ],
      "metadata": {
        "id": "fpr_neLJjQU2"
      },
      "execution_count": null,
      "outputs": []
    },
    {
      "cell_type": "code",
      "source": [
        "if 50 > 60:\n",
        "  print('I worked!')\n",
        "else:\n",
        "  print(\"it didn't work\")"
      ],
      "metadata": {
        "colab": {
          "base_uri": "https://localhost:8080/"
        },
        "id": "H_Lei0Xd46rs",
        "outputId": "71470724-5a0a-4717-9a31-fd36a637f459"
      },
      "execution_count": 2,
      "outputs": [
        {
          "output_type": "stream",
          "name": "stdout",
          "text": [
            "it didn't work\n"
          ]
        }
      ]
    },
    {
      "cell_type": "code",
      "source": [
        "if 50 > 60:\n",
        "  print('I worked!')\n",
        "elif 50 < 45:\n",
        "  print(\"elif 1 worked\")\n",
        "elif 50 == 50:\n",
        "  print(\"elif 2 worked\")    #this is true and elif 3 also is true\n",
        "elif 45 < 55:               #yet the first one which is true will only be shown\n",
        "  print(\"elif 3 worked\")\n",
        "else:\n",
        "  print(\"it didn't work\")"
      ],
      "metadata": {
        "colab": {
          "base_uri": "https://localhost:8080/"
        },
        "id": "FN3j58Uq478x",
        "outputId": "7459b424-98d9-465a-95a8-b931004bfe38"
      },
      "execution_count": 2,
      "outputs": [
        {
          "output_type": "stream",
          "name": "stdout",
          "text": [
            "elif 2 worked\n"
          ]
        }
      ]
    }
  ]
}