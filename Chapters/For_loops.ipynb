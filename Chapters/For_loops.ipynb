{
  "nbformat": 4,
  "nbformat_minor": 0,
  "metadata": {
    "colab": {
      "provenance": [],
      "authorship_tag": "ABX9TyPJUfUg9F/iuyn3/NPQhfS8",
      "include_colab_link": true
    },
    "kernelspec": {
      "name": "python3",
      "display_name": "Python 3"
    },
    "language_info": {
      "name": "python"
    }
  },
  "cells": [
    {
      "cell_type": "markdown",
      "metadata": {
        "id": "view-in-github",
        "colab_type": "text"
      },
      "source": [
        "<a href=\"https://colab.research.google.com/github/gD26290/Python/blob/main/Chapters/For_loops.ipynb\" target=\"_parent\"><img src=\"https://colab.research.google.com/assets/colab-badge.svg\" alt=\"Open In Colab\"/></a>"
      ]
    },
    {
      "cell_type": "markdown",
      "source": [
        "## **For Loops**"
      ],
      "metadata": {
        "id": "-GzEvlouEIMI"
      }
    },
    {
      "cell_type": "code",
      "source": [
        "# is used to iterate through the items in a variable of any data type"
      ],
      "metadata": {
        "id": "3ZkmbisHEaoD"
      },
      "execution_count": 1,
      "outputs": []
    },
    {
      "cell_type": "code",
      "source": [
        "integer = [1,2,3,4,5]"
      ],
      "metadata": {
        "id": "1g_7LmIZE9sX"
      },
      "execution_count": 2,
      "outputs": []
    },
    {
      "cell_type": "code",
      "source": [
        "for banjo in integer:\n",
        "  print(banjo)           #here banjo is a temp name given to the variable integer\n",
        "                          # syntax FOR |<TEMP NAME> IN <THE VARIABLE WE ARE REFERING TO>:\n",
        "                          #             <THEN THE BODY>"
      ],
      "metadata": {
        "colab": {
          "base_uri": "https://localhost:8080/"
        },
        "id": "7Oya7P3uFER2",
        "outputId": "1635e12b-29b1-4823-f9f3-32855ceb8508"
      },
      "execution_count": 4,
      "outputs": [
        {
          "output_type": "stream",
          "name": "stdout",
          "text": [
            "1\n",
            "2\n",
            "3\n",
            "4\n",
            "5\n"
          ]
        }
      ]
    },
    {
      "cell_type": "code",
      "source": [
        "# previously we asked to print the items in the variable,\n",
        "# now lets try another way for loop works"
      ],
      "metadata": {
        "id": "sYXbXcW-F76N"
      },
      "execution_count": 5,
      "outputs": []
    },
    {
      "cell_type": "code",
      "source": [
        "for mantis in integer:\n",
        "  print('happyworld!')"
      ],
      "metadata": {
        "colab": {
          "base_uri": "https://localhost:8080/"
        },
        "id": "2GhsCrt7GCpd",
        "outputId": "8f911fad-cf9b-43c3-9aed-2b2bc43d4e35"
      },
      "execution_count": 9,
      "outputs": [
        {
          "output_type": "stream",
          "name": "stdout",
          "text": [
            "happyworld!\n",
            "happyworld!\n",
            "happyworld!\n",
            "happyworld!\n",
            "happyworld!\n"
          ]
        }
      ]
    },
    {
      "cell_type": "code",
      "source": [
        "# let's try another way how for loop works"
      ],
      "metadata": {
        "id": "rHwNJqvPGCsh"
      },
      "execution_count": 10,
      "outputs": []
    },
    {
      "cell_type": "code",
      "source": [
        "for pimpri in integer:\n",
        "  print(pimpri + 1)"
      ],
      "metadata": {
        "colab": {
          "base_uri": "https://localhost:8080/"
        },
        "id": "mkKaGizpGuGM",
        "outputId": "d2eeccc8-97ac-402f-f74a-212f668f0d29"
      },
      "execution_count": 11,
      "outputs": [
        {
          "output_type": "stream",
          "name": "stdout",
          "text": [
            "2\n",
            "3\n",
            "4\n",
            "5\n",
            "6\n"
          ]
        }
      ]
    },
    {
      "cell_type": "code",
      "source": [
        "# there are so many ways for loop can be used"
      ],
      "metadata": {
        "id": "vWaja0uBGuJH"
      },
      "execution_count": 12,
      "outputs": []
    },
    {
      "cell_type": "markdown",
      "source": [
        "**for loop in dictionaries**"
      ],
      "metadata": {
        "id": "TRS5a1vVHmS_"
      }
    },
    {
      "cell_type": "code",
      "source": [
        "# as the dictionaries stores in key-value pair, it acts a bit different than the others\n",
        "# we need to specify what we need out of the dictionary in the first place"
      ],
      "metadata": {
        "id": "Bp2cQMC-GuPw"
      },
      "execution_count": 13,
      "outputs": []
    },
    {
      "cell_type": "code",
      "source": [
        "about = {'country':'india', 'states':28, 'union_territories':9, 'official_language':['hindi', 'english']}"
      ],
      "metadata": {
        "id": "8LQnsrb2HZJi"
      },
      "execution_count": 14,
      "outputs": []
    },
    {
      "cell_type": "code",
      "source": [
        "for info in about.values():\n",
        "  print(info)                   # here we opt to print only the values in the dict"
      ],
      "metadata": {
        "colab": {
          "base_uri": "https://localhost:8080/"
        },
        "id": "UXMtpNsvHZL7",
        "outputId": "f4093744-2532-48db-ee82-34010c89ea5c"
      },
      "execution_count": 16,
      "outputs": [
        {
          "output_type": "stream",
          "name": "stdout",
          "text": [
            "india\n",
            "28\n",
            "9\n",
            "['hindi', 'english']\n"
          ]
        }
      ]
    },
    {
      "cell_type": "code",
      "source": [
        "for info in about.keys():\n",
        "  print(info)                   # here we opt to print only the keys in the dict"
      ],
      "metadata": {
        "colab": {
          "base_uri": "https://localhost:8080/"
        },
        "id": "6liM7OIXGuSk",
        "outputId": "fe47b40a-8767-4207-d5d4-cf37005ff963"
      },
      "execution_count": 17,
      "outputs": [
        {
          "output_type": "stream",
          "name": "stdout",
          "text": [
            "country\n",
            "states\n",
            "union_territories\n",
            "official_language\n"
          ]
        }
      ]
    },
    {
      "cell_type": "code",
      "source": [
        "# if we want both keys and values, we use 'ITEMS'\n",
        "\n",
        "for keys, values in about.items():\n",
        "  print(keys, '-->', values)"
      ],
      "metadata": {
        "colab": {
          "base_uri": "https://localhost:8080/"
        },
        "id": "ccp50VmLJwyD",
        "outputId": "ca8d7327-a5e7-4df1-ab05-a436477e9c7c"
      },
      "execution_count": 19,
      "outputs": [
        {
          "output_type": "stream",
          "name": "stdout",
          "text": [
            "country --> india\n",
            "states --> 28\n",
            "union_territories --> 9\n",
            "official_language --> ['hindi', 'english']\n"
          ]
        }
      ]
    },
    {
      "cell_type": "markdown",
      "source": [
        "**Nested for loop**"
      ],
      "metadata": {
        "id": "EsXm4H3eKgbL"
      }
    },
    {
      "cell_type": "code",
      "source": [
        "# let's create 2 lists for this excercise\n",
        "\n",
        "states = ['kerala', 'tamil nadu','karnataka', 'telangana']\n",
        "languages = ['malayalam', 'tamil', 'kannada','telugu']"
      ],
      "metadata": {
        "id": "b89TEYxNJw0x"
      },
      "execution_count": 20,
      "outputs": []
    },
    {
      "cell_type": "code",
      "source": [
        "for first in states:\n",
        "  for second in languages:\n",
        "    print(first, 'speaks', second)"
      ],
      "metadata": {
        "colab": {
          "base_uri": "https://localhost:8080/"
        },
        "id": "tg4AyZioKm2S",
        "outputId": "21bdeffe-1c3e-42e9-cab8-8acbc125707e"
      },
      "execution_count": 21,
      "outputs": [
        {
          "output_type": "stream",
          "name": "stdout",
          "text": [
            "kerala speaks malayalam\n",
            "kerala speaks tamil\n",
            "kerala speaks kannada\n",
            "kerala speaks telugu\n",
            "tamil nadu speaks malayalam\n",
            "tamil nadu speaks tamil\n",
            "tamil nadu speaks kannada\n",
            "tamil nadu speaks telugu\n",
            "karnataka speaks malayalam\n",
            "karnataka speaks tamil\n",
            "karnataka speaks kannada\n",
            "karnataka speaks telugu\n",
            "telangana speaks malayalam\n",
            "telangana speaks tamil\n",
            "telangana speaks kannada\n",
            "telangana speaks telugu\n"
          ]
        }
      ]
    },
    {
      "cell_type": "markdown",
      "source": [
        "**need more practice with for loops...**"
      ],
      "metadata": {
        "id": "SonOlQKNMCo2"
      }
    }
  ]
}